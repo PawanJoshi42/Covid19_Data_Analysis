{
 "cells": [
  {
   "cell_type": "code",
   "execution_count": 6,
   "id": "2feef8d2-ba74-4bf3-8c1c-cf68d42f7609",
   "metadata": {},
   "outputs": [],
   "source": [
    "import numpy as np\n",
    "import pandas as pd\n",
    "import matplotlib.pyplot as plt\n",
    "import seaborn as sns"
   ]
  },
  {
   "cell_type": "markdown",
   "id": "5b31e8a1-0724-4e0d-8c02-fcef459c3243",
   "metadata": {},
   "source": [
    "# Covid 19 DataSet"
   ]
  },
  {
   "cell_type": "markdown",
   "id": "15089178-90fd-4674-a3bf-a0c5bc87d792",
   "metadata": {},
   "source": [
    "#### I have taken a small dataset of Covid-19 for this project.\n",
    "#### The data used here is of 2024-06-30.\n",
    "#### The data in on csv.file. It was downloaded from kaggle.\n",
    "#### Below is the data analysis of this file using Pandas DataFrame."
   ]
  },
  {
   "cell_type": "markdown",
   "id": "7d6bec30-67ac-4348-bc7f-16f0ea46ab64",
   "metadata": {},
   "source": [
    "## Data Entry "
   ]
  },
  {
   "cell_type": "code",
   "execution_count": 15,
   "id": "da23f59d-398a-40d6-a098-a5316fd20bc7",
   "metadata": {},
   "outputs": [
    {
     "data": {
      "text/html": [
       "<div>\n",
       "<style scoped>\n",
       "    .dataframe tbody tr th:only-of-type {\n",
       "        vertical-align: middle;\n",
       "    }\n",
       "\n",
       "    .dataframe tbody tr th {\n",
       "        vertical-align: top;\n",
       "    }\n",
       "\n",
       "    .dataframe thead th {\n",
       "        text-align: right;\n",
       "    }\n",
       "</style>\n",
       "<table border=\"1\" class=\"dataframe\">\n",
       "  <thead>\n",
       "    <tr style=\"text-align: right;\">\n",
       "      <th></th>\n",
       "      <th>country</th>\n",
       "      <th>continent</th>\n",
       "      <th>population</th>\n",
       "      <th>day</th>\n",
       "      <th>time</th>\n",
       "      <th>Cases</th>\n",
       "      <th>Recovered</th>\n",
       "      <th>Deaths</th>\n",
       "      <th>Tests</th>\n",
       "    </tr>\n",
       "  </thead>\n",
       "  <tbody>\n",
       "    <tr>\n",
       "      <th>0</th>\n",
       "      <td>Saint-Helena</td>\n",
       "      <td>Africa</td>\n",
       "      <td>6115.0</td>\n",
       "      <td>2024-06-30</td>\n",
       "      <td>2024-06-30T16:15:16+00:00</td>\n",
       "      <td>2166</td>\n",
       "      <td>2.0</td>\n",
       "      <td>NaN</td>\n",
       "      <td>NaN</td>\n",
       "    </tr>\n",
       "    <tr>\n",
       "      <th>1</th>\n",
       "      <td>Falkland-Islands</td>\n",
       "      <td>South-America</td>\n",
       "      <td>3539.0</td>\n",
       "      <td>2024-06-30</td>\n",
       "      <td>2024-06-30T16:15:16+00:00</td>\n",
       "      <td>1930</td>\n",
       "      <td>1930.0</td>\n",
       "      <td>NaN</td>\n",
       "      <td>8632.0</td>\n",
       "    </tr>\n",
       "    <tr>\n",
       "      <th>2</th>\n",
       "      <td>Montserrat</td>\n",
       "      <td>North-America</td>\n",
       "      <td>4965.0</td>\n",
       "      <td>2024-06-30</td>\n",
       "      <td>2024-06-30T16:15:16+00:00</td>\n",
       "      <td>1403</td>\n",
       "      <td>1376.0</td>\n",
       "      <td>8.0</td>\n",
       "      <td>17762.0</td>\n",
       "    </tr>\n",
       "    <tr>\n",
       "      <th>3</th>\n",
       "      <td>Diamond-Princess</td>\n",
       "      <td>NaN</td>\n",
       "      <td>NaN</td>\n",
       "      <td>2024-06-30</td>\n",
       "      <td>2024-06-30T16:15:16+00:00</td>\n",
       "      <td>712</td>\n",
       "      <td>699.0</td>\n",
       "      <td>13.0</td>\n",
       "      <td>NaN</td>\n",
       "    </tr>\n",
       "    <tr>\n",
       "      <th>4</th>\n",
       "      <td>Vatican-City</td>\n",
       "      <td>Europe</td>\n",
       "      <td>799.0</td>\n",
       "      <td>2024-06-30</td>\n",
       "      <td>2024-06-30T16:15:16+00:00</td>\n",
       "      <td>29</td>\n",
       "      <td>29.0</td>\n",
       "      <td>NaN</td>\n",
       "      <td>NaN</td>\n",
       "    </tr>\n",
       "    <tr>\n",
       "      <th>...</th>\n",
       "      <td>...</td>\n",
       "      <td>...</td>\n",
       "      <td>...</td>\n",
       "      <td>...</td>\n",
       "      <td>...</td>\n",
       "      <td>...</td>\n",
       "      <td>...</td>\n",
       "      <td>...</td>\n",
       "      <td>...</td>\n",
       "    </tr>\n",
       "    <tr>\n",
       "      <th>233</th>\n",
       "      <td>Argentina</td>\n",
       "      <td>South-America</td>\n",
       "      <td>46010234.0</td>\n",
       "      <td>2024-06-30</td>\n",
       "      <td>2024-06-30T16:15:10+00:00</td>\n",
       "      <td>10128845</td>\n",
       "      <td>9997258.0</td>\n",
       "      <td>130841.0</td>\n",
       "      <td>35716069.0</td>\n",
       "    </tr>\n",
       "    <tr>\n",
       "      <th>234</th>\n",
       "      <td>Netherlands</td>\n",
       "      <td>Europe</td>\n",
       "      <td>17211447.0</td>\n",
       "      <td>2024-06-30</td>\n",
       "      <td>2024-06-30T16:15:10+00:00</td>\n",
       "      <td>8635786</td>\n",
       "      <td>8612599.0</td>\n",
       "      <td>22992.0</td>\n",
       "      <td>25984435.0</td>\n",
       "    </tr>\n",
       "    <tr>\n",
       "      <th>235</th>\n",
       "      <td>Mexico</td>\n",
       "      <td>North-America</td>\n",
       "      <td>131562772.0</td>\n",
       "      <td>2024-06-30</td>\n",
       "      <td>2024-06-30T16:15:10+00:00</td>\n",
       "      <td>7702809</td>\n",
       "      <td>6899865.0</td>\n",
       "      <td>334958.0</td>\n",
       "      <td>20013810.0</td>\n",
       "    </tr>\n",
       "    <tr>\n",
       "      <th>236</th>\n",
       "      <td>Iran</td>\n",
       "      <td>Asia</td>\n",
       "      <td>86022837.0</td>\n",
       "      <td>2024-06-30</td>\n",
       "      <td>2024-06-30T16:15:10+00:00</td>\n",
       "      <td>7627186</td>\n",
       "      <td>NaN</td>\n",
       "      <td>146811.0</td>\n",
       "      <td>57320267.0</td>\n",
       "    </tr>\n",
       "    <tr>\n",
       "      <th>237</th>\n",
       "      <td>Indonesia</td>\n",
       "      <td>Asia</td>\n",
       "      <td>279134505.0</td>\n",
       "      <td>2024-06-30</td>\n",
       "      <td>2024-06-30T16:15:10+00:00</td>\n",
       "      <td>6829221</td>\n",
       "      <td>6647104.0</td>\n",
       "      <td>162063.0</td>\n",
       "      <td>114158919.0</td>\n",
       "    </tr>\n",
       "  </tbody>\n",
       "</table>\n",
       "<p>238 rows × 9 columns</p>\n",
       "</div>"
      ],
      "text/plain": [
       "              country      continent   population         day  \\\n",
       "0        Saint-Helena         Africa       6115.0  2024-06-30   \n",
       "1    Falkland-Islands  South-America       3539.0  2024-06-30   \n",
       "2          Montserrat  North-America       4965.0  2024-06-30   \n",
       "3    Diamond-Princess            NaN          NaN  2024-06-30   \n",
       "4        Vatican-City         Europe        799.0  2024-06-30   \n",
       "..                ...            ...          ...         ...   \n",
       "233         Argentina  South-America   46010234.0  2024-06-30   \n",
       "234       Netherlands         Europe   17211447.0  2024-06-30   \n",
       "235            Mexico  North-America  131562772.0  2024-06-30   \n",
       "236              Iran           Asia   86022837.0  2024-06-30   \n",
       "237         Indonesia           Asia  279134505.0  2024-06-30   \n",
       "\n",
       "                          time     Cases  Recovered    Deaths        Tests  \n",
       "0    2024-06-30T16:15:16+00:00      2166        2.0       NaN          NaN  \n",
       "1    2024-06-30T16:15:16+00:00      1930     1930.0       NaN       8632.0  \n",
       "2    2024-06-30T16:15:16+00:00      1403     1376.0       8.0      17762.0  \n",
       "3    2024-06-30T16:15:16+00:00       712      699.0      13.0          NaN  \n",
       "4    2024-06-30T16:15:16+00:00        29       29.0       NaN          NaN  \n",
       "..                         ...       ...        ...       ...          ...  \n",
       "233  2024-06-30T16:15:10+00:00  10128845  9997258.0  130841.0   35716069.0  \n",
       "234  2024-06-30T16:15:10+00:00   8635786  8612599.0   22992.0   25984435.0  \n",
       "235  2024-06-30T16:15:10+00:00   7702809  6899865.0  334958.0   20013810.0  \n",
       "236  2024-06-30T16:15:10+00:00   7627186        NaN  146811.0   57320267.0  \n",
       "237  2024-06-30T16:15:10+00:00   6829221  6647104.0  162063.0  114158919.0  \n",
       "\n",
       "[238 rows x 9 columns]"
      ]
     },
     "execution_count": 15,
     "metadata": {},
     "output_type": "execute_result"
    }
   ],
   "source": [
    "df = pd.read_csv(\"covid_19.csv\")\n",
    "df"
   ]
  },
  {
   "cell_type": "code",
   "execution_count": 7,
   "id": "ae9d4aff-f1b9-46d1-8158-201b6edd447c",
   "metadata": {},
   "outputs": [
    {
     "data": {
      "text/plain": [
       "(238, 9)"
      ]
     },
     "execution_count": 7,
     "metadata": {},
     "output_type": "execute_result"
    }
   ],
   "source": [
    "df.shape # To check the number of rows and colums"
   ]
  },
  {
   "cell_type": "code",
   "execution_count": 16,
   "id": "619881e5-6b76-427c-9d06-6c3fa3104d55",
   "metadata": {},
   "outputs": [
    {
     "data": {
      "text/html": [
       "<div>\n",
       "<style scoped>\n",
       "    .dataframe tbody tr th:only-of-type {\n",
       "        vertical-align: middle;\n",
       "    }\n",
       "\n",
       "    .dataframe tbody tr th {\n",
       "        vertical-align: top;\n",
       "    }\n",
       "\n",
       "    .dataframe thead th {\n",
       "        text-align: right;\n",
       "    }\n",
       "</style>\n",
       "<table border=\"1\" class=\"dataframe\">\n",
       "  <thead>\n",
       "    <tr style=\"text-align: right;\">\n",
       "      <th></th>\n",
       "      <th>country</th>\n",
       "      <th>continent</th>\n",
       "      <th>population</th>\n",
       "      <th>day</th>\n",
       "      <th>time</th>\n",
       "      <th>Cases</th>\n",
       "      <th>Recovered</th>\n",
       "      <th>Deaths</th>\n",
       "      <th>Tests</th>\n",
       "    </tr>\n",
       "  </thead>\n",
       "  <tbody>\n",
       "    <tr>\n",
       "      <th>0</th>\n",
       "      <td>Saint-Helena</td>\n",
       "      <td>Africa</td>\n",
       "      <td>6115.0</td>\n",
       "      <td>2024-06-30</td>\n",
       "      <td>2024-06-30T16:15:16+00:00</td>\n",
       "      <td>2166</td>\n",
       "      <td>2.0</td>\n",
       "      <td>NaN</td>\n",
       "      <td>NaN</td>\n",
       "    </tr>\n",
       "    <tr>\n",
       "      <th>1</th>\n",
       "      <td>Falkland-Islands</td>\n",
       "      <td>South-America</td>\n",
       "      <td>3539.0</td>\n",
       "      <td>2024-06-30</td>\n",
       "      <td>2024-06-30T16:15:16+00:00</td>\n",
       "      <td>1930</td>\n",
       "      <td>1930.0</td>\n",
       "      <td>NaN</td>\n",
       "      <td>8632.0</td>\n",
       "    </tr>\n",
       "    <tr>\n",
       "      <th>2</th>\n",
       "      <td>Montserrat</td>\n",
       "      <td>North-America</td>\n",
       "      <td>4965.0</td>\n",
       "      <td>2024-06-30</td>\n",
       "      <td>2024-06-30T16:15:16+00:00</td>\n",
       "      <td>1403</td>\n",
       "      <td>1376.0</td>\n",
       "      <td>8.0</td>\n",
       "      <td>17762.0</td>\n",
       "    </tr>\n",
       "    <tr>\n",
       "      <th>3</th>\n",
       "      <td>Diamond-Princess</td>\n",
       "      <td>NaN</td>\n",
       "      <td>NaN</td>\n",
       "      <td>2024-06-30</td>\n",
       "      <td>2024-06-30T16:15:16+00:00</td>\n",
       "      <td>712</td>\n",
       "      <td>699.0</td>\n",
       "      <td>13.0</td>\n",
       "      <td>NaN</td>\n",
       "    </tr>\n",
       "    <tr>\n",
       "      <th>4</th>\n",
       "      <td>Vatican-City</td>\n",
       "      <td>Europe</td>\n",
       "      <td>799.0</td>\n",
       "      <td>2024-06-30</td>\n",
       "      <td>2024-06-30T16:15:16+00:00</td>\n",
       "      <td>29</td>\n",
       "      <td>29.0</td>\n",
       "      <td>NaN</td>\n",
       "      <td>NaN</td>\n",
       "    </tr>\n",
       "  </tbody>\n",
       "</table>\n",
       "</div>"
      ],
      "text/plain": [
       "            country      continent  population         day  \\\n",
       "0      Saint-Helena         Africa      6115.0  2024-06-30   \n",
       "1  Falkland-Islands  South-America      3539.0  2024-06-30   \n",
       "2        Montserrat  North-America      4965.0  2024-06-30   \n",
       "3  Diamond-Princess            NaN         NaN  2024-06-30   \n",
       "4      Vatican-City         Europe       799.0  2024-06-30   \n",
       "\n",
       "                        time  Cases  Recovered  Deaths    Tests  \n",
       "0  2024-06-30T16:15:16+00:00   2166        2.0     NaN      NaN  \n",
       "1  2024-06-30T16:15:16+00:00   1930     1930.0     NaN   8632.0  \n",
       "2  2024-06-30T16:15:16+00:00   1403     1376.0     8.0  17762.0  \n",
       "3  2024-06-30T16:15:16+00:00    712      699.0    13.0      NaN  \n",
       "4  2024-06-30T16:15:16+00:00     29       29.0     NaN      NaN  "
      ]
     },
     "execution_count": 16,
     "metadata": {},
     "output_type": "execute_result"
    }
   ],
   "source": [
    "df.head() # Shows the first 5 data"
   ]
  },
  {
   "cell_type": "code",
   "execution_count": 17,
   "id": "a6e9c45e-26be-4ba8-857a-2d7a2e4fc2d0",
   "metadata": {},
   "outputs": [
    {
     "data": {
      "text/html": [
       "<div>\n",
       "<style scoped>\n",
       "    .dataframe tbody tr th:only-of-type {\n",
       "        vertical-align: middle;\n",
       "    }\n",
       "\n",
       "    .dataframe tbody tr th {\n",
       "        vertical-align: top;\n",
       "    }\n",
       "\n",
       "    .dataframe thead th {\n",
       "        text-align: right;\n",
       "    }\n",
       "</style>\n",
       "<table border=\"1\" class=\"dataframe\">\n",
       "  <thead>\n",
       "    <tr style=\"text-align: right;\">\n",
       "      <th></th>\n",
       "      <th>country</th>\n",
       "      <th>continent</th>\n",
       "      <th>population</th>\n",
       "      <th>day</th>\n",
       "      <th>time</th>\n",
       "      <th>Cases</th>\n",
       "      <th>Recovered</th>\n",
       "      <th>Deaths</th>\n",
       "      <th>Tests</th>\n",
       "    </tr>\n",
       "  </thead>\n",
       "  <tbody>\n",
       "    <tr>\n",
       "      <th>233</th>\n",
       "      <td>Argentina</td>\n",
       "      <td>South-America</td>\n",
       "      <td>46010234.0</td>\n",
       "      <td>2024-06-30</td>\n",
       "      <td>2024-06-30T16:15:10+00:00</td>\n",
       "      <td>10128845</td>\n",
       "      <td>9997258.0</td>\n",
       "      <td>130841.0</td>\n",
       "      <td>35716069.0</td>\n",
       "    </tr>\n",
       "    <tr>\n",
       "      <th>234</th>\n",
       "      <td>Netherlands</td>\n",
       "      <td>Europe</td>\n",
       "      <td>17211447.0</td>\n",
       "      <td>2024-06-30</td>\n",
       "      <td>2024-06-30T16:15:10+00:00</td>\n",
       "      <td>8635786</td>\n",
       "      <td>8612599.0</td>\n",
       "      <td>22992.0</td>\n",
       "      <td>25984435.0</td>\n",
       "    </tr>\n",
       "    <tr>\n",
       "      <th>235</th>\n",
       "      <td>Mexico</td>\n",
       "      <td>North-America</td>\n",
       "      <td>131562772.0</td>\n",
       "      <td>2024-06-30</td>\n",
       "      <td>2024-06-30T16:15:10+00:00</td>\n",
       "      <td>7702809</td>\n",
       "      <td>6899865.0</td>\n",
       "      <td>334958.0</td>\n",
       "      <td>20013810.0</td>\n",
       "    </tr>\n",
       "    <tr>\n",
       "      <th>236</th>\n",
       "      <td>Iran</td>\n",
       "      <td>Asia</td>\n",
       "      <td>86022837.0</td>\n",
       "      <td>2024-06-30</td>\n",
       "      <td>2024-06-30T16:15:10+00:00</td>\n",
       "      <td>7627186</td>\n",
       "      <td>NaN</td>\n",
       "      <td>146811.0</td>\n",
       "      <td>57320267.0</td>\n",
       "    </tr>\n",
       "    <tr>\n",
       "      <th>237</th>\n",
       "      <td>Indonesia</td>\n",
       "      <td>Asia</td>\n",
       "      <td>279134505.0</td>\n",
       "      <td>2024-06-30</td>\n",
       "      <td>2024-06-30T16:15:10+00:00</td>\n",
       "      <td>6829221</td>\n",
       "      <td>6647104.0</td>\n",
       "      <td>162063.0</td>\n",
       "      <td>114158919.0</td>\n",
       "    </tr>\n",
       "  </tbody>\n",
       "</table>\n",
       "</div>"
      ],
      "text/plain": [
       "         country      continent   population         day  \\\n",
       "233    Argentina  South-America   46010234.0  2024-06-30   \n",
       "234  Netherlands         Europe   17211447.0  2024-06-30   \n",
       "235       Mexico  North-America  131562772.0  2024-06-30   \n",
       "236         Iran           Asia   86022837.0  2024-06-30   \n",
       "237    Indonesia           Asia  279134505.0  2024-06-30   \n",
       "\n",
       "                          time     Cases  Recovered    Deaths        Tests  \n",
       "233  2024-06-30T16:15:10+00:00  10128845  9997258.0  130841.0   35716069.0  \n",
       "234  2024-06-30T16:15:10+00:00   8635786  8612599.0   22992.0   25984435.0  \n",
       "235  2024-06-30T16:15:10+00:00   7702809  6899865.0  334958.0   20013810.0  \n",
       "236  2024-06-30T16:15:10+00:00   7627186        NaN  146811.0   57320267.0  \n",
       "237  2024-06-30T16:15:10+00:00   6829221  6647104.0  162063.0  114158919.0  "
      ]
     },
     "execution_count": 17,
     "metadata": {},
     "output_type": "execute_result"
    }
   ],
   "source": [
    "df.tail() #Shows the last 5 data"
   ]
  },
  {
   "cell_type": "markdown",
   "id": "d9eb8cd5-a006-46b8-a14a-9007c1b9bd64",
   "metadata": {},
   "source": [
    "# Data Cleaning "
   ]
  },
  {
   "cell_type": "code",
   "execution_count": 18,
   "id": "810a827d-05ee-4cde-a2d2-55c6fe544505",
   "metadata": {},
   "outputs": [
    {
     "name": "stdout",
     "output_type": "stream",
     "text": [
      "<class 'pandas.core.frame.DataFrame'>\n",
      "RangeIndex: 238 entries, 0 to 237\n",
      "Data columns (total 9 columns):\n",
      " #   Column      Non-Null Count  Dtype  \n",
      "---  ------      --------------  -----  \n",
      " 0   country     238 non-null    object \n",
      " 1   continent   236 non-null    object \n",
      " 2   population  229 non-null    float64\n",
      " 3   day         238 non-null    object \n",
      " 4   time        238 non-null    object \n",
      " 5   Cases       238 non-null    int64  \n",
      " 6   Recovered   190 non-null    float64\n",
      " 7   Deaths      233 non-null    float64\n",
      " 8   Tests       213 non-null    float64\n",
      "dtypes: float64(4), int64(1), object(4)\n",
      "memory usage: 16.9+ KB\n"
     ]
    }
   ],
   "source": [
    "df.info() #To analyze the full data"
   ]
  },
  {
   "cell_type": "markdown",
   "id": "ff449b6b-5b29-4d03-bbc8-4d467f14c07a",
   "metadata": {},
   "source": [
    "### To remove the null values"
   ]
  },
  {
   "cell_type": "code",
   "execution_count": 22,
   "id": "c63f1958-a8d2-4bc6-9b30-3b7e1fca9cb1",
   "metadata": {},
   "outputs": [],
   "source": [
    "df.dropna(inplace=True) # To remove the null values "
   ]
  },
  {
   "cell_type": "code",
   "execution_count": 23,
   "id": "01e81ba6-5052-4b13-b888-21761dda89a8",
   "metadata": {},
   "outputs": [
    {
     "data": {
      "text/plain": [
       "(169, 9)"
      ]
     },
     "execution_count": 23,
     "metadata": {},
     "output_type": "execute_result"
    }
   ],
   "source": [
    "df.shape"
   ]
  },
  {
   "cell_type": "markdown",
   "id": "ec410acc-ba97-4318-a036-7bdb0ca88631",
   "metadata": {},
   "source": [
    "### To check the null value "
   ]
  },
  {
   "cell_type": "code",
   "execution_count": 24,
   "id": "c5b746a6-c56c-41f7-a2bb-ae51b1cf67c2",
   "metadata": {},
   "outputs": [
    {
     "data": {
      "text/plain": [
       "country       0\n",
       "continent     0\n",
       "population    0\n",
       "day           0\n",
       "time          0\n",
       "Cases         0\n",
       "Recovered     0\n",
       "Deaths        0\n",
       "Tests         0\n",
       "dtype: int64"
      ]
     },
     "execution_count": 24,
     "metadata": {},
     "output_type": "execute_result"
    }
   ],
   "source": [
    "pd.isnull(df).sum() # To check the number of null values"
   ]
  },
  {
   "cell_type": "code",
   "execution_count": 21,
   "id": "5e9ead9c-309e-451f-87ea-51e6b048c55d",
   "metadata": {},
   "outputs": [
    {
     "data": {
      "text/plain": [
       "(238, 9)"
      ]
     },
     "execution_count": 21,
     "metadata": {},
     "output_type": "execute_result"
    }
   ],
   "source": [
    "df.shape # To check the number of rows and colums"
   ]
  },
  {
   "cell_type": "markdown",
   "id": "919f84bd-bb78-40fc-89bc-023b2e35e406",
   "metadata": {},
   "source": [
    "##### All the null values are gone"
   ]
  },
  {
   "cell_type": "markdown",
   "id": "9ea9c1b1-c954-4e01-8e81-692b5e467eef",
   "metadata": {},
   "source": [
    "### Changing the data types"
   ]
  },
  {
   "cell_type": "code",
   "execution_count": 38,
   "id": "f1dbfaed-38d0-4027-981b-6b14ca526b54",
   "metadata": {},
   "outputs": [],
   "source": [
    "df['Deaths'] = df['Deaths'].astype('int')\n",
    "df['Recovered'] = df['Recovered'].astype('int')\n",
    "df['population'] = df['population'].astype('int')\n"
   ]
  },
  {
   "cell_type": "code",
   "execution_count": 67,
   "id": "38b1b65f-7f3a-49cb-be06-83715e1dcd4a",
   "metadata": {},
   "outputs": [
    {
     "data": {
      "text/plain": [
       "dtype('float64')"
      ]
     },
     "execution_count": 67,
     "metadata": {},
     "output_type": "execute_result"
    }
   ],
   "source": [
    "df['Deaths'].dtypes # Check the data type"
   ]
  },
  {
   "cell_type": "code",
   "execution_count": 25,
   "id": "a9e995ce-5cf7-4009-86ef-7167197328ce",
   "metadata": {},
   "outputs": [
    {
     "data": {
      "text/html": [
       "<div>\n",
       "<style scoped>\n",
       "    .dataframe tbody tr th:only-of-type {\n",
       "        vertical-align: middle;\n",
       "    }\n",
       "\n",
       "    .dataframe tbody tr th {\n",
       "        vertical-align: top;\n",
       "    }\n",
       "\n",
       "    .dataframe thead th {\n",
       "        text-align: right;\n",
       "    }\n",
       "</style>\n",
       "<table border=\"1\" class=\"dataframe\">\n",
       "  <thead>\n",
       "    <tr style=\"text-align: right;\">\n",
       "      <th></th>\n",
       "      <th>population</th>\n",
       "      <th>Cases</th>\n",
       "      <th>Recovered</th>\n",
       "      <th>Deaths</th>\n",
       "      <th>Tests</th>\n",
       "    </tr>\n",
       "  </thead>\n",
       "  <tbody>\n",
       "    <tr>\n",
       "      <th>count</th>\n",
       "      <td>1.690000e+02</td>\n",
       "      <td>1.690000e+02</td>\n",
       "      <td>1.690000e+02</td>\n",
       "      <td>1.690000e+02</td>\n",
       "      <td>1.690000e+02</td>\n",
       "    </tr>\n",
       "    <tr>\n",
       "      <th>mean</th>\n",
       "      <td>3.393555e+07</td>\n",
       "      <td>3.358564e+06</td>\n",
       "      <td>3.288112e+06</td>\n",
       "      <td>3.437705e+04</td>\n",
       "      <td>3.114130e+07</td>\n",
       "    </tr>\n",
       "    <tr>\n",
       "      <th>std</th>\n",
       "      <td>1.199166e+08</td>\n",
       "      <td>1.082718e+07</td>\n",
       "      <td>1.062387e+07</td>\n",
       "      <td>1.199160e+05</td>\n",
       "      <td>1.129389e+08</td>\n",
       "    </tr>\n",
       "    <tr>\n",
       "      <th>min</th>\n",
       "      <td>4.965000e+03</td>\n",
       "      <td>1.403000e+03</td>\n",
       "      <td>4.380000e+02</td>\n",
       "      <td>1.000000e+00</td>\n",
       "      <td>7.850000e+03</td>\n",
       "    </tr>\n",
       "    <tr>\n",
       "      <th>25%</th>\n",
       "      <td>1.369429e+06</td>\n",
       "      <td>3.613800e+04</td>\n",
       "      <td>3.233200e+04</td>\n",
       "      <td>3.160000e+02</td>\n",
       "      <td>4.004660e+05</td>\n",
       "    </tr>\n",
       "    <tr>\n",
       "      <th>50%</th>\n",
       "      <td>8.680837e+06</td>\n",
       "      <td>2.720100e+05</td>\n",
       "      <td>2.588880e+05</td>\n",
       "      <td>3.165000e+03</td>\n",
       "      <td>2.525756e+06</td>\n",
       "    </tr>\n",
       "    <tr>\n",
       "      <th>75%</th>\n",
       "      <td>2.791155e+07</td>\n",
       "      <td>1.734582e+06</td>\n",
       "      <td>1.724921e+06</td>\n",
       "      <td>1.805700e+04</td>\n",
       "      <td>1.346373e+07</td>\n",
       "    </tr>\n",
       "    <tr>\n",
       "      <th>max</th>\n",
       "      <td>1.448471e+09</td>\n",
       "      <td>1.118201e+08</td>\n",
       "      <td>1.098144e+08</td>\n",
       "      <td>1.219487e+06</td>\n",
       "      <td>1.186852e+09</td>\n",
       "    </tr>\n",
       "  </tbody>\n",
       "</table>\n",
       "</div>"
      ],
      "text/plain": [
       "         population         Cases     Recovered        Deaths         Tests\n",
       "count  1.690000e+02  1.690000e+02  1.690000e+02  1.690000e+02  1.690000e+02\n",
       "mean   3.393555e+07  3.358564e+06  3.288112e+06  3.437705e+04  3.114130e+07\n",
       "std    1.199166e+08  1.082718e+07  1.062387e+07  1.199160e+05  1.129389e+08\n",
       "min    4.965000e+03  1.403000e+03  4.380000e+02  1.000000e+00  7.850000e+03\n",
       "25%    1.369429e+06  3.613800e+04  3.233200e+04  3.160000e+02  4.004660e+05\n",
       "50%    8.680837e+06  2.720100e+05  2.588880e+05  3.165000e+03  2.525756e+06\n",
       "75%    2.791155e+07  1.734582e+06  1.724921e+06  1.805700e+04  1.346373e+07\n",
       "max    1.448471e+09  1.118201e+08  1.098144e+08  1.219487e+06  1.186852e+09"
      ]
     },
     "execution_count": 25,
     "metadata": {},
     "output_type": "execute_result"
    }
   ],
   "source": [
    "#describe() method returns description of the data in the DataFrame(i.e count, mean, std, etc)\n",
    "df.describe()"
   ]
  },
  {
   "cell_type": "markdown",
   "id": "c2294361-bf77-49d3-acb1-5060a17760c9",
   "metadata": {},
   "source": [
    "# Exploratory Data Analaysis"
   ]
  },
  {
   "cell_type": "code",
   "execution_count": 9,
   "id": "ceff4a59-ad7e-4202-af6f-608d3fbd8e6a",
   "metadata": {},
   "outputs": [],
   "source": [
    "## Correlation Matrix"
   ]
  },
  {
   "cell_type": "code",
   "execution_count": 18,
   "id": "2cc886a8-b7a5-4b8f-9c34-51769b8b7c58",
   "metadata": {},
   "outputs": [
    {
     "data": {
      "text/plain": [
       "Index(['country', 'continent', 'population', 'day', 'time', 'Cases',\n",
       "       'Recovered', 'Deaths', 'Tests'],\n",
       "      dtype='object')"
      ]
     },
     "execution_count": 18,
     "metadata": {},
     "output_type": "execute_result"
    }
   ],
   "source": [
    "df.columns"
   ]
  },
  {
   "cell_type": "markdown",
   "id": "d2992d99-ae04-4811-a2b9-d0e15a9c4f8d",
   "metadata": {},
   "source": [
    "# Corelational Matrix"
   ]
  },
  {
   "cell_type": "code",
   "execution_count": 26,
   "id": "47a1b0e2-fbc9-4ed2-a901-374db2a81d9f",
   "metadata": {},
   "outputs": [
    {
     "data": {
      "text/plain": [
       "<Axes: >"
      ]
     },
     "execution_count": 26,
     "metadata": {},
     "output_type": "execute_result"
    },
    {
     "data": {
      "image/png": "[encoded data removed]",
      "text/plain": [
       "<Figure size 1700x600 with 2 Axes>"
      ]
     },
     "metadata": {},
     "output_type": "display_data"
    }
   ],
   "source": [
    "plt.figure(figsize=(17,6))\n",
    "# sns.heatmap(df[['Recovered','Deaths']],annot=True)\n",
    "corr = df[['Recovered', 'Deaths',]].corr()\n",
    "sns.heatmap(corr, annot=True)"
   ]
  },
  {
   "cell_type": "markdown",
   "id": "dce37c79-1eaa-49b9-b07e-6fe67d1a2a10",
   "metadata": {},
   "source": [
    "# Top countries with the highest death cases"
   ]
  },
  {
   "cell_type": "code",
   "execution_count": 27,
   "id": "eb3a585b-3092-47fa-a603-19a0a927c021",
   "metadata": {},
   "outputs": [
    {
     "name": "stdout",
     "output_type": "stream",
     "text": [
      "       country      continent   population         day  \\\n",
      "219        USA  North-America  334805269.0  2024-06-30   \n",
      "223     Brazil  South-America  215353593.0  2024-06-30   \n",
      "228     Russia         Europe  145805947.0  2024-06-30   \n",
      "235     Mexico  North-America  131562772.0  2024-06-30   \n",
      "227         UK         Europe   68497907.0  2024-06-30   \n",
      "181       Peru  South-America   33684208.0  2024-06-30   \n",
      "226      Italy         Europe   60262770.0  2024-06-30   \n",
      "222    Germany         Europe   83883596.0  2024-06-30   \n",
      "221     France         Europe   65584518.0  2024-06-30   \n",
      "237  Indonesia           Asia  279134505.0  2024-06-30   \n",
      "\n",
      "                          time      Cases    Recovered     Deaths  \\\n",
      "219  2024-06-30T16:15:10+00:00  111820082  109814428.0  1219487.0   \n",
      "223  2024-06-30T16:15:10+00:00   38743918   36249161.0   711380.0   \n",
      "228  2024-06-30T16:15:10+00:00   24124215   23545818.0   402756.0   \n",
      "235  2024-06-30T16:15:10+00:00    7702809    6899865.0   334958.0   \n",
      "227  2024-06-30T16:15:10+00:00   24910387   24678275.0   232112.0   \n",
      "181  2024-06-30T16:15:11+00:00    4572667    4350506.0   222161.0   \n",
      "226  2024-06-30T16:15:10+00:00   26723249   26361218.0   196487.0   \n",
      "222  2024-06-30T16:15:10+00:00   38828995   38240600.0   183027.0   \n",
      "221  2024-06-30T16:15:10+00:00   40138560   39970918.0   167642.0   \n",
      "237  2024-06-30T16:15:10+00:00    6829221    6647104.0   162063.0   \n",
      "\n",
      "            Tests  \n",
      "219  1.186852e+09  \n",
      "223  6.377617e+07  \n",
      "228  2.734000e+08  \n",
      "235  2.001381e+07  \n",
      "227  5.225265e+08  \n",
      "181  3.901019e+07  \n",
      "226  2.811264e+08  \n",
      "222  1.223324e+08  \n",
      "221  2.714902e+08  \n",
      "237  1.141589e+08  \n"
     ]
    },
    {
     "data": {
      "image/png": "[encoded data removed]",
      "text/plain": [
       "<Figure size 1200x800 with 1 Axes>"
      ]
     },
     "metadata": {},
     "output_type": "display_data"
    }
   ],
   "source": [
    "# Sort the DataFrame by 'Deaths' in descending order and get the top 10 countries\n",
    "top_10_countries = df.sort_values(by='Deaths', ascending=False).head(10)\n",
    "\n",
    "print(top_10_countries)\n",
    "\n",
    "\n",
    "plt.figure(figsize=(12, 8))\n",
    "plt.bar(top_10_countries['country'], top_10_countries['Deaths'],color='red')\n",
    "plt.xlabel('countries')\n",
    "plt.ylabel('Deaths')\n",
    "plt.title('Top 10 Countries with the Highest Death Cases')\n",
    "plt.xticks(rotation=45)\n",
    "plt.show()"
   ]
  },
  {
   "cell_type": "markdown",
   "id": "c30baa20-10fd-445c-b105-1f242b9c57f7",
   "metadata": {},
   "source": [
    "### Countries with the Highest Recovered Cases"
   ]
  },
  {
   "cell_type": "code",
   "execution_count": 8,
   "id": "785afc7e-fb1a-417e-8054-45fba9ede787",
   "metadata": {},
   "outputs": [
    {
     "data": {
      "image/png": "[encoded data removed]",
      "text/plain": [
       "<Figure size 1200x800 with 1 Axes>"
      ]
     },
     "metadata": {},
     "output_type": "display_data"
    }
   ],
   "source": [
    "# Sort the DataFrame by 'Deaths' in descending order and get the top 10 countries\n",
    "top_10_countries = df.sort_values(by='Recovered', ascending=False).head(10)\n",
    "\n",
    "plt.figure(figsize=(12, 8))\n",
    "plt.bar(top_10_countries['country'], top_10_countries['Recovered'])\n",
    "plt.xlabel('Countries')\n",
    "plt.ylabel('Recovered Cases')\n",
    "plt.title('Top 10 Countries with the Highest Recovered Cases')\n",
    "plt.xticks(rotation=45)\n",
    "plt.show()"
   ]
  },
  {
   "cell_type": "markdown",
   "id": "cf036502-0c7c-465a-b6cc-32f8d9f281a6",
   "metadata": {},
   "source": [
    "### Countries with the Highest Cases Register "
   ]
  },
  {
   "cell_type": "code",
   "execution_count": 56,
   "id": "feacc0bf-16cf-413a-98d3-3428d8f74722",
   "metadata": {},
   "outputs": [
    {
     "data": {
      "image/png": "[encoded data removed]",
      "text/plain": [
       "<Figure size 1200x800 with 1 Axes>"
      ]
     },
     "metadata": {},
     "output_type": "display_data"
    }
   ],
   "source": [
    "# Sort the DataFrame by 'Deaths' in descending order and get the top 10 countries\n",
    "top_10_countries = df.sort_values(by='Tests', ascending=False).head(10)\n",
    "\n",
    "plt.figure(figsize=(12, 8))\n",
    "plt.bar(top_10_countries['country'], top_10_countries['Tests'])\n",
    "plt.xlabel('Countries')\n",
    "plt.ylabel('Recovered Cases')\n",
    "plt.title('Top 10 Countries with the Highest Cases Registered')\n",
    "plt.xticks(rotation=45)\n",
    "plt.show()"
   ]
  },
  {
   "cell_type": "markdown",
   "id": "ace37558-683f-4013-8bac-0a6aebe6f92c",
   "metadata": {},
   "source": [
    "### Comparison between the Cases and Deaths in plot graph"
   ]
  },
  {
   "cell_type": "code",
   "execution_count": 28,
   "id": "971afa60-ad1c-474a-bb30-204a2da7c046",
   "metadata": {},
   "outputs": [
    {
     "data": {
      "text/plain": [
       "<Axes: xlabel='Cases', ylabel='Deaths'>"
      ]
     },
     "execution_count": 28,
     "metadata": {},
     "output_type": "execute_result"
    },
    {
     "data": {
      "image/png": "[encoded data removed]",
      "text/plain": [
       "<Figure size 640x480 with 1 Axes>"
      ]
     },
     "metadata": {},
     "output_type": "display_data"
    }
   ],
   "source": [
    "df.plot(kind = 'scatter', x = 'Cases' , y='Deaths')"
   ]
  },
  {
   "cell_type": "markdown",
   "id": "7d1d8644-03f4-4b2c-9ca0-650d359e8309",
   "metadata": {},
   "source": [
    "### Comparison between the Cases and Deaths in plot graph"
   ]
  },
  {
   "cell_type": "code",
   "execution_count": 29,
   "id": "627f5696-df1e-4e39-bf6d-e5d5ee722245",
   "metadata": {},
   "outputs": [
    {
     "data": {
      "text/plain": [
       "<Axes: xlabel='Tests', ylabel='Cases'>"
      ]
     },
     "execution_count": 29,
     "metadata": {},
     "output_type": "execute_result"
    },
    {
     "data": {
      "image/png": "[encoded data removed]",
      "text/plain": [
       "<Figure size 640x480 with 1 Axes>"
      ]
     },
     "metadata": {},
     "output_type": "display_data"
    }
   ],
   "source": [
    "df.plot(kind = 'scatter', x = 'Tests' , y='Cases')"
   ]
  },
  {
   "cell_type": "markdown",
   "id": "5a2ed019-9afc-49db-bd77-1d57dced930b",
   "metadata": {},
   "source": [
    "# Conclusion "
   ]
  },
  {
   "cell_type": "markdown",
   "id": "7e0a330a-5d01-42c7-9d3f-0bdaa8ff4d5a",
   "metadata": {},
   "source": [
    "* The data analysis of COVID-19 for June 2024 provides a comprehensive overview of the pandemic's ongoing impact and the damages it has caused and all the details relatec to it. All the data cleaning and the data analyzing phase has been done and it will be more easy to analayze the data now. \n",
    "\n"
   ]
  }
 ],
 "metadata": {
  "kernelspec": {
   "display_name": "Python 3 (ipykernel)",
   "language": "python",
   "name": "python3"
  },
  "language_info": {
   "codemirror_mode": {
    "name": "ipython",
    "version": 3
   },
   "file_extension": ".py",
   "mimetype": "text/x-python",
   "name": "python",
   "nbconvert_exporter": "python",
   "pygments_lexer": "ipython3",
   "version": "3.12.2"
  }
 },
 "nbformat": 4,
 "nbformat_minor": 5
}
